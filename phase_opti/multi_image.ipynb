{
 "cells": [
  {
   "cell_type": "code",
   "execution_count": 1,
   "metadata": {},
   "outputs": [
    {
     "ename": "ImportError",
     "evalue": "cannot import name 'phase_registration_optim'",
     "output_type": "error",
     "traceback": [
      "\u001b[0;31m---------------------------------------------------------------------------\u001b[0m",
      "\u001b[0;31mImportError\u001b[0m                               Traceback (most recent call last)",
      "\u001b[0;32m<ipython-input-1-1ed48a26ae4c>\u001b[0m in \u001b[0;36m<module>\u001b[0;34m\u001b[0m\n\u001b[1;32m      4\u001b[0m \u001b[0;32mfrom\u001b[0m \u001b[0mskimage\u001b[0m \u001b[0;32mimport\u001b[0m \u001b[0mimg_as_uint\u001b[0m\u001b[0;34m\u001b[0m\u001b[0;34m\u001b[0m\u001b[0m\n\u001b[1;32m      5\u001b[0m \u001b[0;34m\u001b[0m\u001b[0m\n\u001b[0;32m----> 6\u001b[0;31m \u001b[0;32mfrom\u001b[0m \u001b[0mphase_opti\u001b[0m \u001b[0;32mimport\u001b[0m \u001b[0mphase_registration_optim\u001b[0m\u001b[0;34m\u001b[0m\u001b[0;34m\u001b[0m\u001b[0m\n\u001b[0m\u001b[1;32m      7\u001b[0m \u001b[0;34m\u001b[0m\u001b[0m\n\u001b[1;32m      8\u001b[0m \u001b[0;32mimport\u001b[0m \u001b[0msys\u001b[0m\u001b[0;34m,\u001b[0m \u001b[0mos\u001b[0m\u001b[0;34m\u001b[0m\u001b[0;34m\u001b[0m\u001b[0m\n",
      "\u001b[0;31mImportError\u001b[0m: cannot import name 'phase_registration_optim'"
     ]
    }
   ],
   "source": [
    "import numpy as np\n",
    "import matplotlib.pylab as plt\n",
    "from skimage import io\n",
    "from skimage import img_as_uint\n",
    "\n",
    "from phase_opti import phase_registration_optim\n",
    "\n",
    "import sys, os\n",
    "sys.path.insert(1, os.path.join(sys.path[0], '..'))\n",
    "\n",
    "from stretchablecorr import *\n",
    "import filetools as ft"
   ]
  },
  {
   "cell_type": "code",
   "execution_count": 101,
   "metadata": {},
   "outputs": [
    {
     "name": "stdout",
     "output_type": "stream",
     "text": [
      "Image sequence:\n",
      " 11 frames\n",
      " 1392*1024 pixels\n",
      " memory size: 119 Mo\n",
      " images: hs20p100012.TIF, hs20p100013.TIF, hs20p100014.TIF , ... ,  hs20p100022.TIF\n",
      "Image sequence:\n",
      " 11 frames\n",
      " 1392*1024 pixels\n",
      " memory size: 119 Mo\n",
      " images: hs25p000190.TIF, hs25p000191.TIF, hs25p000192.TIF , ... ,  hs25p000200.TIF\n"
     ]
    }
   ],
   "source": [
    "cubes = []\n",
    "cube, image_names = ft.load_image_sequence('./images/hs2/0p1')\n",
    "cubes.append(cube)\n",
    "cube, image_names = ft.load_image_sequence('./images/hs2/5p0')\n",
    "cubes.append(cube)"
   ]
  },
  {
   "cell_type": "code",
   "execution_count": 102,
   "metadata": {},
   "outputs": [],
   "source": [
    "import itertools as it"
   ]
  },
  {
   "cell_type": "code",
   "execution_count": 103,
   "metadata": {},
   "outputs": [
    {
     "name": "stdout",
     "output_type": "stream",
     "text": [
      "10 10           \r"
     ]
    }
   ],
   "source": [
    "window_half_size = 100\n",
    "xy_center = 200, 500\n",
    "shifts_opti = []\n",
    "shifts_sk   = []\n",
    "\n",
    "for i, j in it.product(range(len(cubes[0])), range(len(cubes[1]))):\n",
    "    A, xy0 = crop(cubes[0][i], xy_center, window_half_size)\n",
    "    B, xy0 = crop(cubes[1][j], xy_center, window_half_size)\n",
    "    \n",
    "    shift, hess_inv, res = phase_registration_optim(A, B, phase=True)\n",
    "    shifts_opti.append(shift)\n",
    "\n",
    "    shift, _, _ = phase_cross_correlation(A, B, upsample_factor=50)\n",
    "    shifts_sk.append(shift)\n",
    "    print(i, j, ' '*10, end='\\r')"
   ]
  },
  {
   "cell_type": "code",
   "execution_count": 104,
   "metadata": {},
   "outputs": [],
   "source": [
    "shifts_opti = np.vstack(shifts_opti)\n",
    "shifts_sk   = np.vstack(shifts_sk)"
   ]
  },
  {
   "cell_type": "code",
   "execution_count": 105,
   "metadata": {},
   "outputs": [
    {
     "name": "stdout",
     "output_type": "stream",
     "text": [
      "[-4.49525185 -2.83917696]\n",
      "0.16761954659620637\n"
     ]
    }
   ],
   "source": [
    "d0 = shifts_opti.mean(axis=0)\n",
    "print(d0)\n",
    "d = np.sqrt(np.sum((shifts_opti - d0)**2, axis=1))\n",
    "print(d.mean())"
   ]
  },
  {
   "cell_type": "code",
   "execution_count": 106,
   "metadata": {},
   "outputs": [
    {
     "name": "stdout",
     "output_type": "stream",
     "text": [
      "[-4.40876033 -3.07917355]\n",
      "0.13865012797864518\n"
     ]
    }
   ],
   "source": [
    "d0 = shifts_sk.mean(axis=0)\n",
    "print(d0)\n",
    "d = np.sqrt(np.sum((shifts_sk - d0)**2, axis=1))\n",
    "print(d.mean())"
   ]
  },
  {
   "cell_type": "code",
   "execution_count": 107,
   "metadata": {},
   "outputs": [
    {
     "name": "stdout",
     "output_type": "stream",
     "text": [
      "[-4.84214824 -3.02616978]\n",
      "[-4.5  -3.25]\n"
     ]
    }
   ],
   "source": [
    "shift, hess_inv, res = phase_registration_optim(A, B, phase=True)\n",
    "print(shift)\n",
    "\n",
    "shift, _, _ = phase_cross_correlation(A, B, upsample_factor=20)\n",
    "print(shift)"
   ]
  },
  {
   "cell_type": "code",
   "execution_count": 108,
   "metadata": {},
   "outputs": [
    {
     "data": {
      "text/plain": [
       "array([[2.15757062e-04, 4.11896466e-05],\n",
       "       [4.11896466e-05, 1.14456258e-04]])"
      ]
     },
     "execution_count": 108,
     "metadata": {},
     "output_type": "execute_result"
    }
   ],
   "source": [
    "hess_inv"
   ]
  },
  {
   "cell_type": "code",
   "execution_count": 100,
   "metadata": {},
   "outputs": [
    {
     "data": {
      "text/plain": [
       "0.08922127558267703"
      ]
     },
     "execution_count": 100,
     "metadata": {},
     "output_type": "execute_result"
    }
   ],
   "source": [
    "np.sqrt(8.55960862e-05*31*3)"
   ]
  },
  {
   "cell_type": "code",
   "execution_count": 99,
   "metadata": {},
   "outputs": [
    {
     "data": {
      "text/plain": [
       "31.641726603973996"
      ]
     },
     "execution_count": 99,
     "metadata": {},
     "output_type": "execute_result"
    }
   ],
   "source": [
    "np.std(cubes[0][6]-cubes[0][2])"
   ]
  },
  {
   "cell_type": "code",
   "execution_count": null,
   "metadata": {},
   "outputs": [],
   "source": []
  }
 ],
 "metadata": {
  "kernelspec": {
   "display_name": "Python 3",
   "language": "python",
   "name": "python3"
  },
  "language_info": {
   "codemirror_mode": {
    "name": "ipython",
    "version": 3
   },
   "file_extension": ".py",
   "mimetype": "text/x-python",
   "name": "python",
   "nbconvert_exporter": "python",
   "pygments_lexer": "ipython3",
   "version": "3.6.9"
  }
 },
 "nbformat": 4,
 "nbformat_minor": 4
}
